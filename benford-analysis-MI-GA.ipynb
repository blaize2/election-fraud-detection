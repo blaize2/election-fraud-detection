{
 "cells": [
  {
   "cell_type": "markdown",
   "metadata": {},
   "source": [
    "## Analysis of Returned ballot data"
   ]
  },
  {
   "cell_type": "code",
   "execution_count": 28,
   "metadata": {},
   "outputs": [],
   "source": [
    "## importing dependencies\n",
    "import pandas as pd\n",
    "import numpy as np\n",
    "import os\n",
    "import glob"
   ]
  },
  {
   "cell_type": "code",
   "execution_count": 29,
   "metadata": {},
   "outputs": [],
   "source": [
    "test= pd.read_excel('~/Desktop/election_results/election_results/georgia.xlsx')"
   ]
  },
  {
   "cell_type": "code",
   "execution_count": 30,
   "metadata": {},
   "outputs": [
    {
     "data": {
      "text/html": [
       "<div>\n",
       "<style scoped>\n",
       "    .dataframe tbody tr th:only-of-type {\n",
       "        vertical-align: middle;\n",
       "    }\n",
       "\n",
       "    .dataframe tbody tr th {\n",
       "        vertical-align: top;\n",
       "    }\n",
       "\n",
       "    .dataframe thead th {\n",
       "        text-align: right;\n",
       "    }\n",
       "</style>\n",
       "<table border=\"1\" class=\"dataframe\">\n",
       "  <thead>\n",
       "    <tr style=\"text-align: right;\">\n",
       "      <th></th>\n",
       "      <th>County</th>\n",
       "      <th>Trump</th>\n",
       "      <th>Biden</th>\n",
       "      <th>Jorgensen</th>\n",
       "      <th>Population</th>\n",
       "      <th>Registered voters</th>\n",
       "      <th>Cast votes</th>\n",
       "      <th>Voter turnout</th>\n",
       "      <th>Percent of county pop is registered voters</th>\n",
       "    </tr>\n",
       "  </thead>\n",
       "  <tbody>\n",
       "    <tr>\n",
       "      <th>0</th>\n",
       "      <td>Towns</td>\n",
       "      <td>6384</td>\n",
       "      <td>1550</td>\n",
       "      <td>45</td>\n",
       "      <td>12037</td>\n",
       "      <td>10189</td>\n",
       "      <td>7979</td>\n",
       "      <td>0.783099</td>\n",
       "      <td>0.846473</td>\n",
       "    </tr>\n",
       "    <tr>\n",
       "      <th>1</th>\n",
       "      <td>Dawson</td>\n",
       "      <td>13393</td>\n",
       "      <td>2486</td>\n",
       "      <td>196</td>\n",
       "      <td>26108</td>\n",
       "      <td>21557</td>\n",
       "      <td>16075</td>\n",
       "      <td>0.745697</td>\n",
       "      <td>0.825686</td>\n",
       "    </tr>\n",
       "    <tr>\n",
       "      <th>2</th>\n",
       "      <td>Taliaferro</td>\n",
       "      <td>360</td>\n",
       "      <td>561</td>\n",
       "      <td>7</td>\n",
       "      <td>1537</td>\n",
       "      <td>1246</td>\n",
       "      <td>928</td>\n",
       "      <td>0.744783</td>\n",
       "      <td>0.810670</td>\n",
       "    </tr>\n",
       "    <tr>\n",
       "      <th>3</th>\n",
       "      <td>Fayette</td>\n",
       "      <td>36316</td>\n",
       "      <td>31863</td>\n",
       "      <td>931</td>\n",
       "      <td>114421</td>\n",
       "      <td>92427</td>\n",
       "      <td>69110</td>\n",
       "      <td>0.747725</td>\n",
       "      <td>0.807780</td>\n",
       "    </tr>\n",
       "    <tr>\n",
       "      <th>4</th>\n",
       "      <td>Union</td>\n",
       "      <td>12651</td>\n",
       "      <td>2801</td>\n",
       "      <td>108</td>\n",
       "      <td>24511</td>\n",
       "      <td>19235</td>\n",
       "      <td>15560</td>\n",
       "      <td>0.808942</td>\n",
       "      <td>0.784750</td>\n",
       "    </tr>\n",
       "  </tbody>\n",
       "</table>\n",
       "</div>"
      ],
      "text/plain": [
       "       County  Trump  Biden  Jorgensen  Population  Registered voters  \\\n",
       "0       Towns   6384   1550         45       12037              10189   \n",
       "1      Dawson  13393   2486        196       26108              21557   \n",
       "2  Taliaferro    360    561          7        1537               1246   \n",
       "3     Fayette  36316  31863        931      114421              92427   \n",
       "4       Union  12651   2801        108       24511              19235   \n",
       "\n",
       "   Cast votes  Voter turnout  Percent of county pop is registered voters  \n",
       "0        7979       0.783099                                    0.846473  \n",
       "1       16075       0.745697                                    0.825686  \n",
       "2         928       0.744783                                    0.810670  \n",
       "3       69110       0.747725                                    0.807780  \n",
       "4       15560       0.808942                                    0.784750  "
      ]
     },
     "execution_count": 30,
     "metadata": {},
     "output_type": "execute_result"
    }
   ],
   "source": [
    "test.head()"
   ]
  },
  {
   "cell_type": "code",
   "execution_count": 53,
   "metadata": {},
   "outputs": [],
   "source": [
    "biden_count_georgia = test.Biden\n",
    "trump_count_georgia = test.Trump"
   ]
  },
  {
   "cell_type": "code",
   "execution_count": 54,
   "metadata": {},
   "outputs": [
    {
     "data": {
      "text/plain": [
       "count       159.000000\n",
       "mean      15508.056604\n",
       "std       47271.230692\n",
       "min         155.000000\n",
       "25%        1456.000000\n",
       "50%        2879.000000\n",
       "75%        7843.500000\n",
       "max      379095.000000\n",
       "Name: Biden, dtype: float64"
      ]
     },
     "execution_count": 54,
     "metadata": {},
     "output_type": "execute_result"
    }
   ],
   "source": [
    "biden_county.describe()"
   ]
  },
  {
   "cell_type": "code",
   "execution_count": 55,
   "metadata": {},
   "outputs": [],
   "source": [
    "import benfordslaw\n",
    "import random"
   ]
  },
  {
   "cell_type": "code",
   "execution_count": 64,
   "metadata": {},
   "outputs": [],
   "source": [
    "def benford_analysis(d):\n",
    "\n",
    "    print(\"-----------------\")\n",
    "    print(\"| codedrome.com |\")\n",
    "    print(\"| Benford's Law |\")\n",
    "    print(\"-----------------\\n\")\n",
    "\n",
    "    data = d\n",
    "    #data = get_benford_data()\n",
    "\n",
    "    print(len(data))\n",
    "\n",
    "    benford_table = benfordslaw.calculate(data)\n",
    "    print_as_table(benford_table)\n",
    "    print()\n",
    "    print_as_graph(benford_table)\n",
    "\n",
    "\n",
    "def get_random_data():\n",
    "\n",
    "    \"\"\"\n",
    "    Returns a list of 1000 numbers approximately\n",
    "    following the uniform distribution NOT the\n",
    "    Benford Distribution.\n",
    "    \"\"\"\n",
    "\n",
    "    random_data = [0] * 1000\n",
    "\n",
    "    random_data = list(map(lambda n: n + random.randint(1, 1000), random_data))\n",
    "\n",
    "    return random_data\n",
    "\n",
    "\n",
    "def get_benford_data():\n",
    "\n",
    "    \"\"\"\n",
    "    Returns a list of about 1000 numbers\n",
    "    approximately following the Benford Distribution.\n",
    "    \"\"\"\n",
    "\n",
    "    benford_data = []\n",
    "\n",
    "    for first_digit in range(1, 10):\n",
    "        random_factor = random.uniform(0.8, 1.2)\n",
    "        for num_count in range(1, int(1000 * benfordslaw.BENFORD_PERCENTAGES[first_digit] * random_factor)):\n",
    "            start = first_digit * 1000\n",
    "            benford_data.append(random.randint(start, start + 1000))\n",
    "\n",
    "    return benford_data\n",
    "\n",
    "\n",
    "def print_as_table(benford_table):\n",
    "\n",
    "    width = 59\n",
    "\n",
    "    print(\"-\" * width)\n",
    "    print(\"|   |      Data       |    Benford      |    Difference   |\")\n",
    "    print(\"| n |  Freq     Pct   |  Freq     Pct   |  Freq     Pct   |\")\n",
    "    print(\"-\" * width)\n",
    "\n",
    "    for item in benford_table:\n",
    "\n",
    "        print(\"| {} | {:6.0f} | {:6.2f} | {:6.0f} | {:6.2f} | {:6.0f} | {:6.2f} |\".format(item[\"n\"],\n",
    "                                   item[\"data_frequency\"],\n",
    "                                   item[\"data_frequency_percent\"] * 100,\n",
    "                                   item[\"benford_frequency\"],\n",
    "                                   item[\"benford_frequency_percent\"] * 100,\n",
    "                                   item[\"difference_frequency\"],\n",
    "                                   item[\"difference_frequency_percent\"] * 100))\n",
    "\n",
    "    print(\"-\" * width)\n",
    "\n",
    "\n",
    "def print_as_graph(benford_table):\n",
    "\n",
    "    REDBG = \"\\x1B[41m\"\n",
    "    GREENBG = \"\\x1B[42m\"\n",
    "    RESET = \"\\x1B[0m\"\n",
    "\n",
    "    print(\"  0%       10%       20%       30%       40%       50%       60%       70%       80%       90%       100%\")\n",
    "    print(\"  |         |         |         |         |         |         |         |         |         |         |\\n\")\n",
    "\n",
    "    for item in benford_table:\n",
    "\n",
    "        print(\" {} {}\\n   {}\\n  \".format(str(item[\"n\"]),\n",
    "                                         GREENBG + (\" \" * int(round(item[\"benford_frequency_percent\"] * 100))) + RESET,\n",
    "                                         REDBG + (\" \" * int(round(item[\"data_frequency_percent\"] * 100))) + RESET))\n"
   ]
  },
  {
   "cell_type": "code",
   "execution_count": 57,
   "metadata": {},
   "outputs": [
    {
     "name": "stdout",
     "output_type": "stream",
     "text": [
      "-----------------\n",
      "| codedrome.com |\n",
      "| Benford's Law |\n",
      "-----------------\n",
      "\n",
      "159\n",
      "-----------------------------------------------------------\n",
      "|   |      Data       |    Benford      |    Difference   |\n",
      "| n |  Freq     Pct   |  Freq     Pct   |  Freq     Pct   |\n",
      "-----------------------------------------------------------\n",
      "| 1 |     46 |  28.93 |     48 |  30.10 |     -2 |  -1.17 |\n",
      "| 2 |     41 |  25.79 |     28 |  17.60 |     13 |   8.19 |\n",
      "| 3 |     16 |  10.06 |     20 |  12.50 |     -4 |  -2.44 |\n",
      "| 4 |     21 |  13.21 |     15 |   9.70 |      6 |   3.51 |\n",
      "| 5 |      7 |   4.40 |     13 |   7.90 |     -6 |  -3.50 |\n",
      "| 6 |      9 |   5.66 |     11 |   6.70 |     -2 |  -1.04 |\n",
      "| 7 |      8 |   5.03 |      9 |   5.80 |     -1 |  -0.77 |\n",
      "| 8 |      6 |   3.77 |      8 |   5.10 |     -2 |  -1.33 |\n",
      "| 9 |      5 |   3.14 |      7 |   4.60 |     -2 |  -1.46 |\n",
      "-----------------------------------------------------------\n",
      "\n",
      "  0%       10%       20%       30%       40%       50%       60%       70%       80%       90%       100%\n",
      "  |         |         |         |         |         |         |         |         |         |         |\n",
      "\n",
      " 1 \u001b[42m                              \u001b[0m\n",
      "   \u001b[41m                             \u001b[0m\n",
      "  \n",
      " 2 \u001b[42m                  \u001b[0m\n",
      "   \u001b[41m                          \u001b[0m\n",
      "  \n",
      " 3 \u001b[42m            \u001b[0m\n",
      "   \u001b[41m          \u001b[0m\n",
      "  \n",
      " 4 \u001b[42m          \u001b[0m\n",
      "   \u001b[41m             \u001b[0m\n",
      "  \n",
      " 5 \u001b[42m        \u001b[0m\n",
      "   \u001b[41m    \u001b[0m\n",
      "  \n",
      " 6 \u001b[42m       \u001b[0m\n",
      "   \u001b[41m      \u001b[0m\n",
      "  \n",
      " 7 \u001b[42m      \u001b[0m\n",
      "   \u001b[41m     \u001b[0m\n",
      "  \n",
      " 8 \u001b[42m     \u001b[0m\n",
      "   \u001b[41m    \u001b[0m\n",
      "  \n",
      " 9 \u001b[42m     \u001b[0m\n",
      "   \u001b[41m   \u001b[0m\n",
      "  \n"
     ]
    }
   ],
   "source": [
    "benford_analysis(biden_count_georgia)"
   ]
  },
  {
   "cell_type": "code",
   "execution_count": 65,
   "metadata": {},
   "outputs": [
    {
     "name": "stdout",
     "output_type": "stream",
     "text": [
      "-----------------\n",
      "| codedrome.com |\n",
      "| Benford's Law |\n",
      "-----------------\n",
      "\n",
      "159\n",
      "-----------------------------------------------------------\n",
      "|   |      Data       |    Benford      |    Difference   |\n",
      "| n |  Freq     Pct   |  Freq     Pct   |  Freq     Pct   |\n",
      "-----------------------------------------------------------\n",
      "| 1 |     43 |  27.04 |     48 |  30.10 |     -5 |  -3.06 |\n",
      "| 2 |     35 |  22.01 |     28 |  17.60 |      7 |   4.41 |\n",
      "| 3 |     13 |   8.18 |     20 |  12.50 |     -7 |  -4.32 |\n",
      "| 4 |     14 |   8.81 |     15 |   9.70 |     -1 |  -0.89 |\n",
      "| 5 |     10 |   6.29 |     13 |   7.90 |     -3 |  -1.61 |\n",
      "| 6 |     17 |  10.69 |     11 |   6.70 |      6 |   3.99 |\n",
      "| 7 |      8 |   5.03 |      9 |   5.80 |     -1 |  -0.77 |\n",
      "| 8 |     10 |   6.29 |      8 |   5.10 |      2 |   1.19 |\n",
      "| 9 |      9 |   5.66 |      7 |   4.60 |      2 |   1.06 |\n",
      "-----------------------------------------------------------\n",
      "\n",
      "  0%       10%       20%       30%       40%       50%       60%       70%       80%       90%       100%\n",
      "  |         |         |         |         |         |         |         |         |         |         |\n",
      "\n",
      " 1 \u001b[42m                              \u001b[0m\n",
      "   \u001b[41m                           \u001b[0m\n",
      "  \n",
      " 2 \u001b[42m                  \u001b[0m\n",
      "   \u001b[41m                      \u001b[0m\n",
      "  \n",
      " 3 \u001b[42m            \u001b[0m\n",
      "   \u001b[41m        \u001b[0m\n",
      "  \n",
      " 4 \u001b[42m          \u001b[0m\n",
      "   \u001b[41m         \u001b[0m\n",
      "  \n",
      " 5 \u001b[42m        \u001b[0m\n",
      "   \u001b[41m      \u001b[0m\n",
      "  \n",
      " 6 \u001b[42m       \u001b[0m\n",
      "   \u001b[41m           \u001b[0m\n",
      "  \n",
      " 7 \u001b[42m      \u001b[0m\n",
      "   \u001b[41m     \u001b[0m\n",
      "  \n",
      " 8 \u001b[42m     \u001b[0m\n",
      "   \u001b[41m      \u001b[0m\n",
      "  \n",
      " 9 \u001b[42m     \u001b[0m\n",
      "   \u001b[41m      \u001b[0m\n",
      "  \n"
     ]
    }
   ],
   "source": [
    "benford_analysis(trump_count_georgia)"
   ]
  },
  {
   "cell_type": "code",
   "execution_count": 59,
   "metadata": {},
   "outputs": [],
   "source": [
    "michigan_data= pd.read_excel('~/Desktop/election_results/election_results/michigan.xlsx')"
   ]
  },
  {
   "cell_type": "code",
   "execution_count": 61,
   "metadata": {},
   "outputs": [
    {
     "name": "stdout",
     "output_type": "stream",
     "text": [
      "<class 'pandas.core.frame.DataFrame'>\n",
      "RangeIndex: 83 entries, 0 to 82\n",
      "Data columns (total 12 columns):\n",
      " #   Column                                      Non-Null Count  Dtype  \n",
      "---  ------                                      --------------  -----  \n",
      " 0   County                                      83 non-null     object \n",
      " 1   Trump                                       83 non-null     int64  \n",
      " 2   De La Fuente                                83 non-null     int64  \n",
      " 3   Hawkins                                     83 non-null     int64  \n",
      " 4   Biden                                       83 non-null     int64  \n",
      " 5   Jorgensen                                   83 non-null     int64  \n",
      " 6   Blankenship                                 83 non-null     int64  \n",
      " 7   Population                                  83 non-null     int64  \n",
      " 8   Registered voters                           83 non-null     int64  \n",
      " 9   Cast votes                                  83 non-null     int64  \n",
      " 10  Voter turnout                               83 non-null     float64\n",
      " 11  Percent of county pop is registered voters  83 non-null     float64\n",
      "dtypes: float64(2), int64(9), object(1)\n",
      "memory usage: 7.9+ KB\n"
     ]
    }
   ],
   "source": [
    "michigan_data.info()"
   ]
  },
  {
   "cell_type": "code",
   "execution_count": 66,
   "metadata": {},
   "outputs": [],
   "source": [
    "biden_count_michigan = michigan_data.Biden\n",
    "trump_count_michigan = michigan_data.Trump"
   ]
  },
  {
   "cell_type": "code",
   "execution_count": 67,
   "metadata": {
    "scrolled": true
   },
   "outputs": [
    {
     "name": "stdout",
     "output_type": "stream",
     "text": [
      "-----------------\n",
      "| codedrome.com |\n",
      "| Benford's Law |\n",
      "-----------------\n",
      "\n",
      "83\n",
      "-----------------------------------------------------------\n",
      "|   |      Data       |    Benford      |    Difference   |\n",
      "| n |  Freq     Pct   |  Freq     Pct   |  Freq     Pct   |\n",
      "-----------------------------------------------------------\n",
      "| 1 |     15 |  18.07 |     25 |  30.10 |    -10 | -12.03 |\n",
      "| 2 |     17 |  20.48 |     15 |  17.60 |      2 |   2.88 |\n",
      "| 3 |      9 |  10.84 |     10 |  12.50 |     -1 |  -1.66 |\n",
      "| 4 |      8 |   9.64 |      8 |   9.70 |     -0 |  -0.06 |\n",
      "| 5 |     11 |  13.25 |      7 |   7.90 |      4 |   5.35 |\n",
      "| 6 |      9 |  10.84 |      6 |   6.70 |      3 |   4.14 |\n",
      "| 7 |      5 |   6.02 |      5 |   5.80 |      0 |   0.22 |\n",
      "| 8 |      4 |   4.82 |      4 |   5.10 |     -0 |  -0.28 |\n",
      "| 9 |      5 |   6.02 |      4 |   4.60 |      1 |   1.42 |\n",
      "-----------------------------------------------------------\n",
      "\n",
      "  0%       10%       20%       30%       40%       50%       60%       70%       80%       90%       100%\n",
      "  |         |         |         |         |         |         |         |         |         |         |\n",
      "\n",
      " 1 \u001b[42m                              \u001b[0m\n",
      "   \u001b[41m                  \u001b[0m\n",
      "  \n",
      " 2 \u001b[42m                  \u001b[0m\n",
      "   \u001b[41m                    \u001b[0m\n",
      "  \n",
      " 3 \u001b[42m            \u001b[0m\n",
      "   \u001b[41m           \u001b[0m\n",
      "  \n",
      " 4 \u001b[42m          \u001b[0m\n",
      "   \u001b[41m          \u001b[0m\n",
      "  \n",
      " 5 \u001b[42m        \u001b[0m\n",
      "   \u001b[41m             \u001b[0m\n",
      "  \n",
      " 6 \u001b[42m       \u001b[0m\n",
      "   \u001b[41m           \u001b[0m\n",
      "  \n",
      " 7 \u001b[42m      \u001b[0m\n",
      "   \u001b[41m      \u001b[0m\n",
      "  \n",
      " 8 \u001b[42m     \u001b[0m\n",
      "   \u001b[41m     \u001b[0m\n",
      "  \n",
      " 9 \u001b[42m     \u001b[0m\n",
      "   \u001b[41m      \u001b[0m\n",
      "  \n",
      "-----------------\n",
      "| codedrome.com |\n",
      "| Benford's Law |\n",
      "-----------------\n",
      "\n",
      "83\n",
      "-----------------------------------------------------------\n",
      "|   |      Data       |    Benford      |    Difference   |\n",
      "| n |  Freq     Pct   |  Freq     Pct   |  Freq     Pct   |\n",
      "-----------------------------------------------------------\n",
      "| 1 |     22 |  26.51 |     25 |  30.10 |     -3 |  -3.59 |\n",
      "| 2 |     13 |  15.66 |     15 |  17.60 |     -2 |  -1.94 |\n",
      "| 3 |     11 |  13.25 |     10 |  12.50 |      1 |   0.75 |\n",
      "| 4 |     11 |  13.25 |      8 |   9.70 |      3 |   3.55 |\n",
      "| 5 |      7 |   8.43 |      7 |   7.90 |      0 |   0.53 |\n",
      "| 6 |      2 |   2.41 |      6 |   6.70 |     -4 |  -4.29 |\n",
      "| 7 |      3 |   3.61 |      5 |   5.80 |     -2 |  -2.19 |\n",
      "| 8 |      7 |   8.43 |      4 |   5.10 |      3 |   3.33 |\n",
      "| 9 |      7 |   8.43 |      4 |   4.60 |      3 |   3.83 |\n",
      "-----------------------------------------------------------\n",
      "\n",
      "  0%       10%       20%       30%       40%       50%       60%       70%       80%       90%       100%\n",
      "  |         |         |         |         |         |         |         |         |         |         |\n",
      "\n",
      " 1 \u001b[42m                              \u001b[0m\n",
      "   \u001b[41m                           \u001b[0m\n",
      "  \n",
      " 2 \u001b[42m                  \u001b[0m\n",
      "   \u001b[41m                \u001b[0m\n",
      "  \n",
      " 3 \u001b[42m            \u001b[0m\n",
      "   \u001b[41m             \u001b[0m\n",
      "  \n",
      " 4 \u001b[42m          \u001b[0m\n",
      "   \u001b[41m             \u001b[0m\n",
      "  \n",
      " 5 \u001b[42m        \u001b[0m\n",
      "   \u001b[41m        \u001b[0m\n",
      "  \n",
      " 6 \u001b[42m       \u001b[0m\n",
      "   \u001b[41m  \u001b[0m\n",
      "  \n",
      " 7 \u001b[42m      \u001b[0m\n",
      "   \u001b[41m    \u001b[0m\n",
      "  \n",
      " 8 \u001b[42m     \u001b[0m\n",
      "   \u001b[41m        \u001b[0m\n",
      "  \n",
      " 9 \u001b[42m     \u001b[0m\n",
      "   \u001b[41m        \u001b[0m\n",
      "  \n"
     ]
    }
   ],
   "source": [
    "benford_analysis(biden_count_michigan)\n",
    "benford_analysis(trump_count_michigan)"
   ]
  },
  {
   "cell_type": "code",
   "execution_count": 71,
   "metadata": {},
   "outputs": [],
   "source": [
    "import matplotlib.pyplot as plt"
   ]
  },
  {
   "cell_type": "code",
   "execution_count": 73,
   "metadata": {},
   "outputs": [
    {
     "ename": "TypeError",
     "evalue": "'<' not supported between instances of 'function' and 'float'",
     "output_type": "error",
     "traceback": [
      "\u001b[0;31m---------------------------------------------------------------------------\u001b[0m",
      "\u001b[0;31mTypeError\u001b[0m                                 Traceback (most recent call last)",
      "\u001b[0;32m<ipython-input-73-e04884382081>\u001b[0m in \u001b[0;36m<module>\u001b[0;34m\u001b[0m\n\u001b[0;32m----> 1\u001b[0;31m \u001b[0mplt\u001b[0m\u001b[0;34m.\u001b[0m\u001b[0mhist\u001b[0m\u001b[0;34m(\u001b[0m\u001b[0mget_benford_data\u001b[0m\u001b[0;34m)\u001b[0m\u001b[0;34m\u001b[0m\u001b[0;34m\u001b[0m\u001b[0m\n\u001b[0m",
      "\u001b[0;32m~/anaconda3/lib/python3.8/site-packages/matplotlib/pyplot.py\u001b[0m in \u001b[0;36mhist\u001b[0;34m(x, bins, range, density, weights, cumulative, bottom, histtype, align, orientation, rwidth, log, color, label, stacked, data, **kwargs)\u001b[0m\n\u001b[1;32m   2603\u001b[0m         \u001b[0morientation\u001b[0m\u001b[0;34m=\u001b[0m\u001b[0;34m'vertical'\u001b[0m\u001b[0;34m,\u001b[0m \u001b[0mrwidth\u001b[0m\u001b[0;34m=\u001b[0m\u001b[0;32mNone\u001b[0m\u001b[0;34m,\u001b[0m \u001b[0mlog\u001b[0m\u001b[0;34m=\u001b[0m\u001b[0;32mFalse\u001b[0m\u001b[0;34m,\u001b[0m \u001b[0mcolor\u001b[0m\u001b[0;34m=\u001b[0m\u001b[0;32mNone\u001b[0m\u001b[0;34m,\u001b[0m\u001b[0;34m\u001b[0m\u001b[0;34m\u001b[0m\u001b[0m\n\u001b[1;32m   2604\u001b[0m         label=None, stacked=False, *, data=None, **kwargs):\n\u001b[0;32m-> 2605\u001b[0;31m     return gca().hist(\n\u001b[0m\u001b[1;32m   2606\u001b[0m         \u001b[0mx\u001b[0m\u001b[0;34m,\u001b[0m \u001b[0mbins\u001b[0m\u001b[0;34m=\u001b[0m\u001b[0mbins\u001b[0m\u001b[0;34m,\u001b[0m \u001b[0mrange\u001b[0m\u001b[0;34m=\u001b[0m\u001b[0mrange\u001b[0m\u001b[0;34m,\u001b[0m \u001b[0mdensity\u001b[0m\u001b[0;34m=\u001b[0m\u001b[0mdensity\u001b[0m\u001b[0;34m,\u001b[0m \u001b[0mweights\u001b[0m\u001b[0;34m=\u001b[0m\u001b[0mweights\u001b[0m\u001b[0;34m,\u001b[0m\u001b[0;34m\u001b[0m\u001b[0;34m\u001b[0m\u001b[0m\n\u001b[1;32m   2607\u001b[0m         \u001b[0mcumulative\u001b[0m\u001b[0;34m=\u001b[0m\u001b[0mcumulative\u001b[0m\u001b[0;34m,\u001b[0m \u001b[0mbottom\u001b[0m\u001b[0;34m=\u001b[0m\u001b[0mbottom\u001b[0m\u001b[0;34m,\u001b[0m \u001b[0mhisttype\u001b[0m\u001b[0;34m=\u001b[0m\u001b[0mhisttype\u001b[0m\u001b[0;34m,\u001b[0m\u001b[0;34m\u001b[0m\u001b[0;34m\u001b[0m\u001b[0m\n",
      "\u001b[0;32m~/anaconda3/lib/python3.8/site-packages/matplotlib/__init__.py\u001b[0m in \u001b[0;36minner\u001b[0;34m(ax, data, *args, **kwargs)\u001b[0m\n\u001b[1;32m   1563\u001b[0m     \u001b[0;32mdef\u001b[0m \u001b[0minner\u001b[0m\u001b[0;34m(\u001b[0m\u001b[0max\u001b[0m\u001b[0;34m,\u001b[0m \u001b[0;34m*\u001b[0m\u001b[0margs\u001b[0m\u001b[0;34m,\u001b[0m \u001b[0mdata\u001b[0m\u001b[0;34m=\u001b[0m\u001b[0;32mNone\u001b[0m\u001b[0;34m,\u001b[0m \u001b[0;34m**\u001b[0m\u001b[0mkwargs\u001b[0m\u001b[0;34m)\u001b[0m\u001b[0;34m:\u001b[0m\u001b[0;34m\u001b[0m\u001b[0;34m\u001b[0m\u001b[0m\n\u001b[1;32m   1564\u001b[0m         \u001b[0;32mif\u001b[0m \u001b[0mdata\u001b[0m \u001b[0;32mis\u001b[0m \u001b[0;32mNone\u001b[0m\u001b[0;34m:\u001b[0m\u001b[0;34m\u001b[0m\u001b[0;34m\u001b[0m\u001b[0m\n\u001b[0;32m-> 1565\u001b[0;31m             \u001b[0;32mreturn\u001b[0m \u001b[0mfunc\u001b[0m\u001b[0;34m(\u001b[0m\u001b[0max\u001b[0m\u001b[0;34m,\u001b[0m \u001b[0;34m*\u001b[0m\u001b[0mmap\u001b[0m\u001b[0;34m(\u001b[0m\u001b[0msanitize_sequence\u001b[0m\u001b[0;34m,\u001b[0m \u001b[0margs\u001b[0m\u001b[0;34m)\u001b[0m\u001b[0;34m,\u001b[0m \u001b[0;34m**\u001b[0m\u001b[0mkwargs\u001b[0m\u001b[0;34m)\u001b[0m\u001b[0;34m\u001b[0m\u001b[0;34m\u001b[0m\u001b[0m\n\u001b[0m\u001b[1;32m   1566\u001b[0m \u001b[0;34m\u001b[0m\u001b[0m\n\u001b[1;32m   1567\u001b[0m         \u001b[0mbound\u001b[0m \u001b[0;34m=\u001b[0m \u001b[0mnew_sig\u001b[0m\u001b[0;34m.\u001b[0m\u001b[0mbind\u001b[0m\u001b[0;34m(\u001b[0m\u001b[0max\u001b[0m\u001b[0;34m,\u001b[0m \u001b[0;34m*\u001b[0m\u001b[0margs\u001b[0m\u001b[0;34m,\u001b[0m \u001b[0;34m**\u001b[0m\u001b[0mkwargs\u001b[0m\u001b[0;34m)\u001b[0m\u001b[0;34m\u001b[0m\u001b[0;34m\u001b[0m\u001b[0m\n",
      "\u001b[0;32m~/anaconda3/lib/python3.8/site-packages/matplotlib/axes/_axes.py\u001b[0m in \u001b[0;36mhist\u001b[0;34m(self, x, bins, range, density, weights, cumulative, bottom, histtype, align, orientation, rwidth, log, color, label, stacked, **kwargs)\u001b[0m\n\u001b[1;32m   6628\u001b[0m                     \u001b[0;31m# python's min/max ignore nan,\u001b[0m\u001b[0;34m\u001b[0m\u001b[0;34m\u001b[0m\u001b[0;34m\u001b[0m\u001b[0m\n\u001b[1;32m   6629\u001b[0m                     \u001b[0;31m# np.minnan returns nan for all nan input\u001b[0m\u001b[0;34m\u001b[0m\u001b[0;34m\u001b[0m\u001b[0;34m\u001b[0m\u001b[0m\n\u001b[0;32m-> 6630\u001b[0;31m                     \u001b[0mxmin\u001b[0m \u001b[0;34m=\u001b[0m \u001b[0mmin\u001b[0m\u001b[0;34m(\u001b[0m\u001b[0mxmin\u001b[0m\u001b[0;34m,\u001b[0m \u001b[0mnp\u001b[0m\u001b[0;34m.\u001b[0m\u001b[0mnanmin\u001b[0m\u001b[0;34m(\u001b[0m\u001b[0mxi\u001b[0m\u001b[0;34m)\u001b[0m\u001b[0;34m)\u001b[0m\u001b[0;34m\u001b[0m\u001b[0;34m\u001b[0m\u001b[0m\n\u001b[0m\u001b[1;32m   6631\u001b[0m                     \u001b[0mxmax\u001b[0m \u001b[0;34m=\u001b[0m \u001b[0mmax\u001b[0m\u001b[0;34m(\u001b[0m\u001b[0mxmax\u001b[0m\u001b[0;34m,\u001b[0m \u001b[0mnp\u001b[0m\u001b[0;34m.\u001b[0m\u001b[0mnanmax\u001b[0m\u001b[0;34m(\u001b[0m\u001b[0mxi\u001b[0m\u001b[0;34m)\u001b[0m\u001b[0;34m)\u001b[0m\u001b[0;34m\u001b[0m\u001b[0;34m\u001b[0m\u001b[0m\n\u001b[1;32m   6632\u001b[0m             \u001b[0;31m# make sure we have seen at least one non-nan and finite\u001b[0m\u001b[0;34m\u001b[0m\u001b[0;34m\u001b[0m\u001b[0;34m\u001b[0m\u001b[0m\n",
      "\u001b[0;31mTypeError\u001b[0m: '<' not supported between instances of 'function' and 'float'"
     ]
    },
    {
     "data": {
      "image/png": "[encoded data removed]",
      "text/plain": [
       "<Figure size 432x288 with 1 Axes>"
      ]
     },
     "metadata": {
      "needs_background": "light"
     },
     "output_type": "display_data"
    }
   ],
   "source": [
    "plt.hist(get_benford_data)"
   ]
  }
 ],
 "metadata": {
  "kernelspec": {
   "display_name": "Python 3",
   "language": "python",
   "name": "python3"
  },
  "language_info": {
   "codemirror_mode": {
    "name": "ipython",
    "version": 3
   },
   "file_extension": ".py",
   "mimetype": "text/x-python",
   "name": "python",
   "nbconvert_exporter": "python",
   "pygments_lexer": "ipython3",
   "version": "3.8.3"
  }
 },
 "nbformat": 4,
 "nbformat_minor": 4
}
